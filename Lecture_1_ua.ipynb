{
 "cells": [
  {
   "cell_type": "markdown",
   "metadata": {},
   "source": [
    "### Матеріали до лекції №1"
   ]
  },
  {
   "cell_type": "markdown",
   "metadata": {},
   "source": [
    "Перевірка поточної директорії"
   ]
  },
  {
   "cell_type": "code",
   "execution_count": 1,
   "metadata": {},
   "outputs": [],
   "source": [
    "import os # бібліотека для взаємодії з операційною системою \n",
    "os.getcwd() # отримання поточного діректорію (current working directory)"
   ]
  },
  {
   "cell_type": "markdown",
   "metadata": {},
   "source": [
    " Введіть в комірку арифметичну дію и нажміть Run (або Shift-Enter) - отримаєте результат "
   ]
  },
  {
   "cell_type": "code",
   "execution_count": 2,
   "metadata": {},
   "outputs": [],
   "source": [
    "2+5"
   ]
  },
  {
   "cell_type": "markdown",
   "metadata": {},
   "source": [
    " Або ж введіть оператори  "
   ]
  },
  {
   "cell_type": "code",
   "execution_count": 3,
   "metadata": {
    "scrolled": false
   },
   "outputs": [
    {
     "name": "stdout",
     "output_type": "stream",
     "text": [
      "Hello\n",
      "Hello\n",
      "Hello\n"
     ]
    }
   ],
   "source": [
    "for i in range(3):\n",
    "    print('Hello')"
   ]
  },
  {
   "cell_type": "code",
   "execution_count": 4,
   "metadata": {},
   "outputs": [
    {
     "data": {
      "text/plain": [
       "[1, 2, 4, 8, 16, 32, 64, 128, 256, 512, 1024]"
      ]
     },
     "execution_count": 4,
     "metadata": {},
     "output_type": "execute_result"
    }
   ],
   "source": [
    "a=[]\n",
    "for i in range(11):\n",
    "    a.append(2**i)\n",
    "a"
   ]
  },
  {
   "cell_type": "markdown",
   "metadata": {},
   "source": [
    "Використання спискового включення"
   ]
  },
  {
   "cell_type": "code",
   "execution_count": 5,
   "metadata": {},
   "outputs": [
    {
     "data": {
      "text/plain": [
       "[1, 2, 4, 8, 16, 32, 64, 128, 256, 512, 1024]"
      ]
     },
     "execution_count": 5,
     "metadata": {},
     "output_type": "execute_result"
    }
   ],
   "source": [
    "a = [2**x for x in range(11)]\n",
    "a"
   ]
  },
  {
   "cell_type": "markdown",
   "metadata": {},
   "source": [
    "Змінивши тип комірок на [Markdown](https://www.markdownguide.org) можна створювати розмічений текст  \n",
    "Наприклад:\n",
    "* використовувати заголовки різних рівнів \n",
    "# Заголовок першого рівня  \n",
    "## Заголовок другого рівня\n",
    "...\n",
    "##### Заголовок шостого рівня\n",
    "\n",
    "\n",
    "* використовувати **напівжирний шрифт** та *курсив*\n",
    "* створювати [посилання](https://en.wikipedia.org/wiki/Markdown)\n",
    "* вставляти картинки  ![Picture](https://upload.wikimedia.org/wikipedia/commons/thumb/4/48/Markdown-mark.svg/130px-Markdown-mark.svg.png)\n",
    "В тому числі картинки можна вставляти перетягуванням миші із папки в блокнот (див. нижче)\n",
    "\n",
    "* створювати таблиці \n",
    "\n",
    "| This | is   | a head  |\n",
    "|------|------|---------|\n",
    "| this | is   |  a row 1|\n",
    "| this | is   |  a row 2|\n",
    "| this | is   |  a row 3|\n",
    "\n",
    "* використовувати LaTex для створення формул\n",
    " 1. всередині речення, використовуючи символ `$` з обох боків. Наприклад, $e^{i\\pi} + 1 = 0$\n",
    " 2. в пустому рядку, використовуючи `$$` з обох боків. Наприклад, $$e^x=\\sum_{i=0}^\\infty \\frac{1}{i!}x^i$$\n",
    "* використовувати HTML теги\n",
    " 1. <div style=\"color:red; font-size:1.5em\" >Це приклад</div>\n",
    " 2. <img src=\"https://upload.wikimedia.org/wikipedia/commons/thumb/0/0a/Python.svg/1200px-Python.svg.png\" width=\"150\">\n",
    " "
   ]
  },
  {
   "cell_type": "markdown",
   "metadata": {},
   "source": [
    "Використання коду на сторонніх мовах"
   ]
  },
  {
   "cell_type": "code",
   "execution_count": 6,
   "metadata": {},
   "outputs": [
    {
     "data": {
      "text/html": [
       "<style>\n",
       ".example{\n",
       "    color:red;\n",
       "    border:4px double brown;\n",
       "    background: #eee;\n",
       "    padding: 20px;\n",
       "}\n",
       "</style>\n",
       "<div class=\"example\">Hello</div>\n"
      ],
      "text/plain": [
       "<IPython.core.display.HTML object>"
      ]
     },
     "metadata": {},
     "output_type": "display_data"
    }
   ],
   "source": [
    "%%HTML\n",
    "<style>\n",
    ".example{\n",
    "    color:red;\n",
    "    border:4px double brown;\n",
    "    background: #eee;\n",
    "    padding: 20px;\n",
    "}\n",
    "</style>\n",
    "<div class=\"example\">Hello</div>"
   ]
  },
  {
   "cell_type": "code",
   "execution_count": 7,
   "metadata": {},
   "outputs": [
    {
     "data": {
      "text/html": [
       "<svg width=\"800\" height=\"300\">\n",
       "  <circle cx=\"150\" cy=\"180\" r=\"80\" fill-opacity=\"0.2\" stroke=\"black\" stroke-width=\"2\" fill=\"blue\" />\n",
       "  <circle cx=\"200\" cy=\"100\" r=\"80\" fill-opacity=\"0.2\" stroke=\"black\" stroke-width=\"2\" fill=\"red\" />\n",
       "  <circle cx=\"100\" cy=\"100\" r=\"80\" fill-opacity=\"0.2\" stroke=\"black\" stroke-width=\"2\" fill=\"green\" />\n",
       "  <line x1=\"150\" y1=\"125\" x2=\"300\" y2=\"150\" stroke=\"black\" stroke-width=\"2\" fill=\"black\" stroke-dasharray=\"5,3\"/>\n",
       "  <text  x=\"60\" y=\"100\" font-family=\"Verdana\" font-size=\"15\">Green</text>\n",
       "  <text  x=\"190\" y=\"100\" font-family=\"Verdana\" font-size=\"15\">Red</text>\n",
       "  <text  x=\"140\" y=\"200\" font-family=\"Verdana\" font-size=\"15\">Blue</text>\n",
       "  <text  x=\"300\" y=\"165\" font-family=\"Verdana\" font-size=\"35\">Center!</text>\n",
       "</svg>\n"
      ],
      "text/plain": [
       "<IPython.core.display.HTML object>"
      ]
     },
     "metadata": {},
     "output_type": "display_data"
    }
   ],
   "source": [
    "%%HTML\n",
    "<svg width=\"800\" height=\"300\">\n",
    "  <circle cx=\"150\" cy=\"180\" r=\"80\" fill-opacity=\"0.2\" stroke=\"black\" stroke-width=\"2\" fill=\"blue\" />\n",
    "  <circle cx=\"200\" cy=\"100\" r=\"80\" fill-opacity=\"0.2\" stroke=\"black\" stroke-width=\"2\" fill=\"red\" />\n",
    "  <circle cx=\"100\" cy=\"100\" r=\"80\" fill-opacity=\"0.2\" stroke=\"black\" stroke-width=\"2\" fill=\"green\" />\n",
    "  <line x1=\"150\" y1=\"125\" x2=\"300\" y2=\"150\" stroke=\"black\" stroke-width=\"2\" fill=\"black\" stroke-dasharray=\"5,3\"/>\n",
    "  <text  x=\"60\" y=\"100\" font-family=\"Verdana\" font-size=\"15\">Green</text>\n",
    "  <text  x=\"190\" y=\"100\" font-family=\"Verdana\" font-size=\"15\">Red</text>\n",
    "  <text  x=\"140\" y=\"200\" font-family=\"Verdana\" font-size=\"15\">Blue</text>\n",
    "  <text  x=\"300\" y=\"165\" font-family=\"Verdana\" font-size=\"35\">Center!</text>\n",
    "</svg>"
   ]
  },
  {
   "cell_type": "markdown",
   "metadata": {},
   "source": [
    "## Створення графіків"
   ]
  },
  {
   "cell_type": "code",
   "execution_count": 8,
   "metadata": {},
   "outputs": [
    {
     "data": {
      "image/png": "[encoded data removed]",
      "text/plain": [
       "<Figure size 432x288 with 1 Axes>"
      ]
     },
     "metadata": {
      "needs_background": "light"
     },
     "output_type": "display_data"
    }
   ],
   "source": [
    "import numpy as np\n",
    "%matplotlib inline\n",
    "import matplotlib.pyplot as plt\n",
    "N=10\n",
    "x=np.random.rand(N)\n",
    "y=np.random.rand(N)\n",
    "color=np.random.rand(N,3)# використання палітри RGB\n",
    "#color=np.random.rand(N)# використання вбудованої палітри\n",
    "area=np.pi*(30*np.random.rand(N))**2\n",
    "plt.scatter(x,y,s=area,c=color)\n",
    "plt.show;"
   ]
  },
  {
   "cell_type": "markdown",
   "metadata": {},
   "source": [
    "Отримання довідки"
   ]
  },
  {
   "cell_type": "code",
   "execution_count": 9,
   "metadata": {},
   "outputs": [],
   "source": [
    "np?"
   ]
  },
  {
   "attachments": {
    "1.png": {
     "image/png": "[encoded data removed]"
    },
    "2.png": {
     "image/png": "[encoded data removed]"
    }
   },
   "cell_type": "markdown",
   "metadata": {},
   "source": [
    "Коли ядро працює, то зліва від клітинки з'являється напис In[`*`]\n",
    "![1.png](attachment:1.png)\n",
    "а коло зверху справа буде зафарбованим  ![2.png](attachment:2.png)"
   ]
  },
  {
   "cell_type": "code",
   "execution_count": 10,
   "metadata": {},
   "outputs": [],
   "source": [
    "import time\n",
    "time.sleep (3) # coн у 3 секунди / sleep for 3 seconds"
   ]
  },
  {
   "cell_type": "markdown",
   "metadata": {},
   "source": [
    "Створення та виклик функцій"
   ]
  },
  {
   "cell_type": "code",
   "execution_count": 11,
   "metadata": {
    "scrolled": true
   },
   "outputs": [
    {
     "data": {
      "text/plain": [
       "'Hello, Vasya!'"
      ]
     },
     "execution_count": 11,
     "metadata": {},
     "output_type": "execute_result"
    }
   ],
   "source": [
    "def say_hello(name):\n",
    "    return 'Hello, {}!'.format(name)\n",
    "say_hello('Vasya')"
   ]
  }
 ],
 "metadata": {
  "celltoolbar": "Raw Cell Format",
  "kernelspec": {
   "display_name": "Python 3",
   "language": "python",
   "name": "python3"
  },
  "language_info": {
   "codemirror_mode": {
    "name": "ipython",
    "version": 3
   },
   "file_extension": ".py",
   "mimetype": "text/x-python",
   "name": "python",
   "nbconvert_exporter": "python",
   "pygments_lexer": "ipython3",
   "version": "3.7.6"
  }
 },
 "nbformat": 4,
 "nbformat_minor": 4
}
